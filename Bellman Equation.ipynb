{
 "cells": [
  {
   "cell_type": "markdown",
   "id": "c5075c61",
   "metadata": {},
   "source": [
    "# Bellman Equation"
   ]
  },
  {
   "cell_type": "code",
   "execution_count": null,
   "id": "3f4a5f7b",
   "metadata": {},
   "outputs": [],
   "source": [
    "R = 1\n",
    "r = 0.9\n",
    "G = 0\n",
    "\n",
    "for i in range(5):\n",
    "    a = R+r*G\n",
    "    G = a\n",
    "    R = 0\n",
    "    print(f\"{a:.2f}\")"
   ]
  }
 ],
 "metadata": {
  "kernelspec": {
   "display_name": "Python 3 (ipykernel)",
   "language": "python",
   "name": "python3"
  },
  "language_info": {
   "codemirror_mode": {
    "name": "ipython",
    "version": 3
   },
   "file_extension": ".py",
   "mimetype": "text/x-python",
   "name": "python",
   "nbconvert_exporter": "python",
   "pygments_lexer": "ipython3",
   "version": "3.11.7"
  }
 },
 "nbformat": 4,
 "nbformat_minor": 5
}
