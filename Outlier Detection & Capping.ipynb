{
 "cells": [
  {
   "cell_type": "markdown",
   "id": "476706d9-aee0-4f3c-9dd7-caf7588d495b",
   "metadata": {},
   "source": [
    "# 4 oct 2024\n",
    "# Outlier detection"
   ]
  },
  {
   "cell_type": "code",
   "execution_count": 2,
   "id": "331991ae-4b1e-4e38-a0c2-7c35e1765fc4",
   "metadata": {},
   "outputs": [],
   "source": [
    "import pandas as pd\n",
    "import numpy as np"
   ]
  },
  {
   "cell_type": "code",
   "execution_count": 4,
   "id": "57ba44d4-026a-4dac-978c-5bc5b98f89fb",
   "metadata": {},
   "outputs": [
    {
     "data": {
      "text/html": [
       "<div>\n",
       "<style scoped>\n",
       "    .dataframe tbody tr th:only-of-type {\n",
       "        vertical-align: middle;\n",
       "    }\n",
       "\n",
       "    .dataframe tbody tr th {\n",
       "        vertical-align: top;\n",
       "    }\n",
       "\n",
       "    .dataframe thead th {\n",
       "        text-align: right;\n",
       "    }\n",
       "</style>\n",
       "<table border=\"1\" class=\"dataframe\">\n",
       "  <thead>\n",
       "    <tr style=\"text-align: right;\">\n",
       "      <th></th>\n",
       "      <th>Gender</th>\n",
       "      <th>Height</th>\n",
       "      <th>Weight</th>\n",
       "    </tr>\n",
       "  </thead>\n",
       "  <tbody>\n",
       "    <tr>\n",
       "      <th>0</th>\n",
       "      <td>Male</td>\n",
       "      <td>73.847017</td>\n",
       "      <td>241.893563</td>\n",
       "    </tr>\n",
       "    <tr>\n",
       "      <th>1</th>\n",
       "      <td>Male</td>\n",
       "      <td>68.781904</td>\n",
       "      <td>162.310473</td>\n",
       "    </tr>\n",
       "  </tbody>\n",
       "</table>\n",
       "</div>"
      ],
      "text/plain": [
       "  Gender     Height      Weight\n",
       "0   Male  73.847017  241.893563\n",
       "1   Male  68.781904  162.310473"
      ]
     },
     "execution_count": 4,
     "metadata": {},
     "output_type": "execute_result"
    }
   ],
   "source": [
    "df = pd.read_csv(r\"C:\\Users\\Acer\\Downloads\\weight-height.csv\")\n",
    "df.head(2)"
   ]
  },
  {
   "cell_type": "code",
   "execution_count": 6,
   "id": "8229d606-a1ad-4148-a1ac-93a1c61fbe29",
   "metadata": {},
   "outputs": [],
   "source": [
    "# z-score\n",
    "outliers=[]\n",
    "def detect_outliers(data):\n",
    "  threshold=3\n",
    "  mean=np.mean(data)\n",
    "  std=np.std(data)\n",
    "\n",
    "  for i in data:\n",
    "    z_score=(i-mean)/std\n",
    "    if np.abs(z_score)>threshold:\n",
    "      outliers.append(i)\n",
    "\n",
    "  return outliers"
   ]
  },
  {
   "cell_type": "code",
   "execution_count": 8,
   "id": "6ad87b7b-93ad-4c0e-94db-cb293d351246",
   "metadata": {},
   "outputs": [],
   "source": [
    "# detect_outliers(df['Height'])\n",
    "\n",
    "# this is outlier detection"
   ]
  },
  {
   "cell_type": "markdown",
   "id": "9cb41465-b285-47df-87d4-87591a0eaf7f",
   "metadata": {},
   "source": [
    "# Now, removing outliers"
   ]
  },
  {
   "cell_type": "code",
   "execution_count": 11,
   "id": "b985b5ac-58bd-477b-a730-82d2a92178a4",
   "metadata": {},
   "outputs": [
    {
     "data": {
      "text/plain": [
       "[78.0958674715774,\n",
       " 78.4620529193772,\n",
       " 78.9987423463896,\n",
       " 78.5282104258694,\n",
       " 78.621373968548,\n",
       " 54.6168578301035,\n",
       " 54.2631333250971]"
      ]
     },
     "execution_count": 11,
     "metadata": {},
     "output_type": "execute_result"
    }
   ],
   "source": [
    "outlier = detect_outliers(df['Height'])\n",
    "outlier"
   ]
  },
  {
   "cell_type": "code",
   "execution_count": 13,
   "id": "cbacf34c-5e6c-4c9f-9823-60de6f12dcba",
   "metadata": {},
   "outputs": [
    {
     "name": "stdout",
     "output_type": "stream",
     "text": [
      "New DataFrame after removing outliers:\n",
      "       Gender     Height      Weight\n",
      "0       Male  73.847017  241.893563\n",
      "1       Male  68.781904  162.310473\n",
      "2       Male  74.110105  212.740856\n",
      "3       Male  71.730978  220.042470\n",
      "4       Male  69.881796  206.349801\n",
      "...      ...        ...         ...\n",
      "9995  Female  66.172652  136.777454\n",
      "9996  Female  67.067155  170.867906\n",
      "9997  Female  63.867992  128.475319\n",
      "9998  Female  69.034243  163.852461\n",
      "9999  Female  61.944246  113.649103\n",
      "\n",
      "[9993 rows x 3 columns]\n"
     ]
    }
   ],
   "source": [
    "# now removing\n",
    "\n",
    "new_df = df[~df['Height'].isin(outlier)]\n",
    "print(\"New DataFrame after removing outliers:\\n\", new_df)\n",
    "\n",
    "# ~ means not in bitwise operator"
   ]
  },
  {
   "cell_type": "code",
   "execution_count": 15,
   "id": "185cec9c-baf3-43eb-a46d-6e3b9be0d6b8",
   "metadata": {},
   "outputs": [
    {
     "name": "stdout",
     "output_type": "stream",
     "text": [
      "Outliers in new DataFrame: [78.0958674715774, 78.4620529193772, 78.9987423463896, 78.5282104258694, 78.621373968548, 54.6168578301035, 54.2631333250971]\n"
     ]
    }
   ],
   "source": [
    "check_outlier = detect_outliers(new_df['Height'])\n",
    "print(\"Outliers in new DataFrame:\", check_outlier)"
   ]
  },
  {
   "cell_type": "code",
   "execution_count": null,
   "id": "fb6b1e69-f121-4c62-bb48-616e8ef4703f",
   "metadata": {},
   "outputs": [],
   "source": []
  },
  {
   "cell_type": "code",
   "execution_count": null,
   "id": "44f7b08a-309c-458a-be08-3428d803dc2d",
   "metadata": {},
   "outputs": [],
   "source": []
  },
  {
   "cell_type": "code",
   "execution_count": null,
   "id": "bceb8af2-0a7e-41d4-adec-8aa3fa698cee",
   "metadata": {},
   "outputs": [],
   "source": []
  },
  {
   "cell_type": "markdown",
   "id": "93cb8969-9014-47db-a5e5-3f2adb05ac1a",
   "metadata": {},
   "source": [
    "# Outlier detection"
   ]
  },
  {
   "cell_type": "code",
   "execution_count": null,
   "id": "f8d6a6a6-abc8-4363-9490-9add924e9b47",
   "metadata": {},
   "outputs": [],
   "source": [
    "# code 1) importing libraries\n",
    "import pandas as pd\n",
    "import numpy as np"
   ]
  },
  {
   "cell_type": "code",
   "execution_count": null,
   "id": "75d01e03-c7e7-4756-be6d-4f77ddfc08a4",
   "metadata": {},
   "outputs": [],
   "source": [
    "# code 2) read\n",
    "df = pd.read_csv(r\"C:\\Users\\Acer\\Downloads\\weight-height.csv\")\n",
    "df.head(2)"
   ]
  },
  {
   "cell_type": "code",
   "execution_count": null,
   "id": "04f4f651-9c15-48f7-9ae4-1772a42f0d5d",
   "metadata": {},
   "outputs": [],
   "source": [
    "# code 3)\n",
    "\n",
    "def detect_outliers(data):\n",
    "    outliers = []  # Reset the outliers list inside the function\n",
    "    threshold = 3\n",
    "    mean = np.mean(data)\n",
    "    std = np.std(data)\n",
    "\n",
    "    for i in data:\n",
    "        z_score = (i - mean) / std\n",
    "        if np.abs(z_score) > threshold:\n",
    "            outliers.append(i)\n",
    "\n",
    "    return outliers"
   ]
  },
  {
   "cell_type": "code",
   "execution_count": null,
   "id": "d74826cc-f252-4506-bcc2-c6687651db04",
   "metadata": {},
   "outputs": [],
   "source": [
    "# code 4) Detect outliers\n",
    "outlier = detect_outliers(df['Height'])\n",
    "print(\"Detected outliers:\", outlier)"
   ]
  },
  {
   "cell_type": "code",
   "execution_count": null,
   "id": "f0a71b51-1fb6-49a7-a0b7-2073df68861b",
   "metadata": {},
   "outputs": [],
   "source": [
    "# code 5) removing\n",
    "\n",
    "new_df = df[~df['Height'].isin(outlier)]\n",
    "print(new_df)\n",
    "\n",
    "# explanation\n",
    "#<------------->\n",
    "# ~ means not in\n",
    "# agr outlier ni hai to height ko print kro"
   ]
  },
  {
   "cell_type": "code",
   "execution_count": null,
   "id": "36838c65-3750-43d3-8ce4-fcb4be3ccdde",
   "metadata": {},
   "outputs": [],
   "source": [
    "# code 6) checking again\n",
    "\n",
    "check_outlier = detect_outliers(new_df['Height'])\n",
    "print(\"Outliers in new DataFrame:\", check_outlier)"
   ]
  },
  {
   "cell_type": "code",
   "execution_count": null,
   "id": "baf71373-4898-464c-949f-03624f9cdc4f",
   "metadata": {},
   "outputs": [],
   "source": [
    "# a distribution when left hand side of data and right hand is equal is called normal distribution.\n",
    "# it is symetric."
   ]
  },
  {
   "cell_type": "markdown",
   "id": "bb013d61-8669-4380-94e4-f80c3add9b8c",
   "metadata": {},
   "source": [
    "# using IQR"
   ]
  },
  {
   "cell_type": "markdown",
   "id": "9377b6c8-606c-413f-8119-8ab1ebe84929",
   "metadata": {},
   "source": [
    "# TO do this code ask from swarnim"
   ]
  },
  {
   "cell_type": "code",
   "execution_count": 1,
   "id": "71fc8c17-a172-460b-b034-900075b0867a",
   "metadata": {},
   "outputs": [],
   "source": [
    "import pandas as pd\n",
    "df = pd.read_csv(r\"C:\\Users\\Acer\\Downloads\\weight-height.csv\")"
   ]
  },
  {
   "cell_type": "code",
   "execution_count": 2,
   "id": "cc2d459d-9814-4207-b73d-b16a23d16826",
   "metadata": {},
   "outputs": [
    {
     "ename": "NameError",
     "evalue": "name 'variable' is not defined",
     "output_type": "error",
     "traceback": [
      "\u001b[1;31m---------------------------------------------------------------------------\u001b[0m",
      "\u001b[1;31mNameError\u001b[0m                                 Traceback (most recent call last)",
      "Cell \u001b[1;32mIn[2], line 7\u001b[0m\n\u001b[0;32m      4\u001b[0m     upper_boundary \u001b[38;5;241m=\u001b[39m df[variable]\u001b[38;5;241m.\u001b[39mquantile(\u001b[38;5;241m0.75\u001b[39m) \u001b[38;5;241m-\u001b[39m (IQR\u001b[38;5;241m*\u001b[39mdistance)\n\u001b[0;32m      5\u001b[0m     \u001b[38;5;28;01mreturn\u001b[39;00m upper_boundary, lower_boundary\n\u001b[1;32m----> 7\u001b[0m find_boundaries(df, variable, distance)\n",
      "\u001b[1;31mNameError\u001b[0m: name 'variable' is not defined"
     ]
    }
   ],
   "source": [
    "def find_boundaries(df, variable, distance):\n",
    "    IQR = df[variable].quantile(0.75) - df[variable].quantile(0.25)\n",
    "    lower_boundary = df[variable].quantile(0.25) - (IQR*distance)\n",
    "    upper_boundary = df[variable].quantile(0.75) - (IQR*distance)\n",
    "    return upper_boundary, lower_boundary\n",
    "\n",
    "find_boundaries(df, variable, distance)"
   ]
  },
  {
   "cell_type": "code",
   "execution_count": null,
   "id": "0008e281-1fe0-4a76-8323-817d53173384",
   "metadata": {},
   "outputs": [],
   "source": [
    "import seaborn as sns\n",
    "sns.boxplot(df['Height'], orient = 'h')"
   ]
  },
  {
   "cell_type": "code",
   "execution_count": null,
   "id": "52942071-63e5-4959-bdde-5c1b4ddbe94e",
   "metadata": {},
   "outputs": [],
   "source": [
    "new_df = df[(df['Height']<=upper_boundary)&(df['Height']>=lower_boundary)]\n",
    "new_df"
   ]
  },
  {
   "cell_type": "code",
   "execution_count": null,
   "id": "90f18a61-c349-4151-a358-68644a1e7790",
   "metadata": {},
   "outputs": [],
   "source": [
    "df[(df['Height']>upper_boundary)|(df['Height']<lower_boundary)]"
   ]
  },
  {
   "cell_type": "code",
   "execution_count": null,
   "id": "105194dd-aa4d-4e3d-a4d5-3389961c8887",
   "metadata": {},
   "outputs": [],
   "source": []
  },
  {
   "cell_type": "code",
   "execution_count": null,
   "id": "866f736e-7481-49a0-a7ac-f601c7efb27f",
   "metadata": {},
   "outputs": [],
   "source": []
  },
  {
   "cell_type": "code",
   "execution_count": null,
   "id": "2052e3c8-99ad-448a-a442-091a48022865",
   "metadata": {},
   "outputs": [],
   "source": []
  },
  {
   "cell_type": "markdown",
   "id": "36987ac3-abbd-4142-9336-734b5e972b28",
   "metadata": {},
   "source": [
    "# capping"
   ]
  },
  {
   "cell_type": "code",
   "execution_count": null,
   "id": "6b9c9062-68cb-476f-9839-384cfa6cb051",
   "metadata": {},
   "outputs": [],
   "source": [
    "# capping means agr outlier hf se jada hai to use hf bna do.\n",
    "# and agr lf se km hai to use lf bna do.\n",
    "\n",
    "# isse hme drop krne ki need ni hogi. and hmare rows km bhi nhi honge."
   ]
  },
  {
   "cell_type": "code",
   "execution_count": null,
   "id": "060ea43a-6497-4275-bc21-6eb75c4963af",
   "metadata": {},
   "outputs": [],
   "source": [
    "q1 = df['Height'].quantile(0.25)\n",
    "q3 = df['Height'].quantile(0.75)\n",
    "iqr = q3 - q1\n",
    "iqr"
   ]
  },
  {
   "cell_type": "code",
   "execution_count": null,
   "id": "0b1fa832-c96d-426c-a752-f8b114b1f554",
   "metadata": {},
   "outputs": [],
   "source": [
    "lf = q1-(1.5*iqr)\n",
    "hf = q3+(1.5*iqr)\n",
    "print(f\"lf  {lf}\")\n",
    "print(f\"hf  {hf}\")"
   ]
  },
  {
   "cell_type": "code",
   "execution_count": null,
   "id": "765eb7dc-6ed3-4936-8cd2-54917d1b89a0",
   "metadata": {},
   "outputs": [],
   "source": []
  },
  {
   "cell_type": "code",
   "execution_count": null,
   "id": "b5a89ba9-a7f8-4bed-9c34-803b13f21ac3",
   "metadata": {},
   "outputs": [],
   "source": [
    "# we can use np.where instead of if command."
   ]
  },
  {
   "cell_type": "code",
   "execution_count": null,
   "id": "0e7001bc-d481-48d0-bf08-7c161c3fb3db",
   "metadata": {},
   "outputs": [],
   "source": [
    "df['Height'] = np.where(\n",
    "    df['Height'] > uf, uf,     \n",
    "    np.where(df['Height'] < lf, \n",
    "             lf,                \n",
    "             df['Height'])      \n",
    ")"
   ]
  },
  {
   "cell_type": "code",
   "execution_count": null,
   "id": "99440c09-34d0-42c7-abab-4d6aa30081ed",
   "metadata": {},
   "outputs": [],
   "source": [
    "df.shape\n",
    "\n",
    "# 1000 rows"
   ]
  },
  {
   "cell_type": "code",
   "execution_count": null,
   "id": "8a27da2d-d583-4600-bfaf-fa46a0e611b1",
   "metadata": {},
   "outputs": [],
   "source": [
    "sns.boxplot(df['Height'], orient = 'h')\n",
    "\n",
    "# now no outlier. and capping krne se abhi bhi hmare pass 1000 hi rows hai."
   ]
  },
  {
   "cell_type": "code",
   "execution_count": null,
   "id": "9aea405a-81ab-446a-a841-54b5f59e82a0",
   "metadata": {},
   "outputs": [],
   "source": [
    "# revise\n",
    "# filling null values,\n",
    "# linear regression model,\n",
    "# outlier detection\n",
    "\n",
    "# abhi tk hmne ye pdha hai."
   ]
  }
 ],
 "metadata": {
  "kernelspec": {
   "display_name": "Python 3 (ipykernel)",
   "language": "python",
   "name": "python3"
  },
  "language_info": {
   "codemirror_mode": {
    "name": "ipython",
    "version": 3
   },
   "file_extension": ".py",
   "mimetype": "text/x-python",
   "name": "python",
   "nbconvert_exporter": "python",
   "pygments_lexer": "ipython3",
   "version": "3.11.7"
  }
 },
 "nbformat": 4,
 "nbformat_minor": 5
}
