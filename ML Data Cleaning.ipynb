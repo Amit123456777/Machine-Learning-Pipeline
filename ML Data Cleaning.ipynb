{
 "cells": [
  {
   "cell_type": "markdown",
   "id": "a72e1934-f4b9-4321-a93a-b43423469d24",
   "metadata": {},
   "source": [
    "# Ml Pipeline 11-sep-2024"
   ]
  },
  {
   "cell_type": "code",
   "execution_count": 2,
   "id": "3ab53504-7d47-4f84-968c-5e7c660fd16e",
   "metadata": {},
   "outputs": [],
   "source": [
    "# IBM interview question\n",
    "# ques) use list or list comprehension to solve the word is palindrome or not.\n",
    " \n",
    "# a = input(\"enter the word\")\n",
    "# a\n",
    "# b = list(a)\n",
    "# b.reverse()\n",
    "# d=''.join(b)\n",
    "# d\n",
    "# if a == d:\n",
    "#     print(\"palindrome\")\n",
    "# else:\n",
    "#     print(\"Not palindrome\")"
   ]
  },
  {
   "cell_type": "markdown",
   "id": "443eaa03-e6c7-401c-8203-c44064c2b345",
   "metadata": {},
   "source": [
    "# Advance ML -> 3rd session 16 sep 2024."
   ]
  },
  {
   "cell_type": "code",
   "execution_count": 4,
   "id": "03a0c04a-7e45-44db-b711-c681630e66f0",
   "metadata": {},
   "outputs": [],
   "source": [
    "# code 1\n",
    "#<--------->\n",
    "import pandas as pd\n",
    "import numpy as np"
   ]
  },
  {
   "cell_type": "code",
   "execution_count": 5,
   "id": "0e8f4815-0953-4bf3-aeed-9649e4451890",
   "metadata": {},
   "outputs": [],
   "source": [
    "# code 2.1) creating a df\n",
    "#<----------------------->\n",
    "\n",
    "data = {\n",
    "    'country' : ['USA','INDIA','UK',np.nan],\n",
    "    'comment' : ['OK','*','?','#'],\n",
    "    'GDP' : [21.4,1.74,2.78,np.nan],\n",
    "    'year' : [2021,2021,2020,2019],\n",
    "    'capital' : ['Washington','New Delhi','London',np.nan]\n",
    "}\n"
   ]
  },
  {
   "cell_type": "code",
   "execution_count": 6,
   "id": "3939e44b-7e83-428f-b21a-74f7b15bd7d5",
   "metadata": {},
   "outputs": [
    {
     "data": {
      "text/html": [
       "<div>\n",
       "<style scoped>\n",
       "    .dataframe tbody tr th:only-of-type {\n",
       "        vertical-align: middle;\n",
       "    }\n",
       "\n",
       "    .dataframe tbody tr th {\n",
       "        vertical-align: top;\n",
       "    }\n",
       "\n",
       "    .dataframe thead th {\n",
       "        text-align: right;\n",
       "    }\n",
       "</style>\n",
       "<table border=\"1\" class=\"dataframe\">\n",
       "  <thead>\n",
       "    <tr style=\"text-align: right;\">\n",
       "      <th></th>\n",
       "      <th>country</th>\n",
       "      <th>comment</th>\n",
       "      <th>GDP</th>\n",
       "      <th>year</th>\n",
       "      <th>capital</th>\n",
       "    </tr>\n",
       "  </thead>\n",
       "  <tbody>\n",
       "    <tr>\n",
       "      <th>0</th>\n",
       "      <td>USA</td>\n",
       "      <td>OK</td>\n",
       "      <td>21.40</td>\n",
       "      <td>2021</td>\n",
       "      <td>Washington</td>\n",
       "    </tr>\n",
       "    <tr>\n",
       "      <th>1</th>\n",
       "      <td>INDIA</td>\n",
       "      <td>*</td>\n",
       "      <td>1.74</td>\n",
       "      <td>2021</td>\n",
       "      <td>New Delhi</td>\n",
       "    </tr>\n",
       "    <tr>\n",
       "      <th>2</th>\n",
       "      <td>UK</td>\n",
       "      <td>?</td>\n",
       "      <td>2.78</td>\n",
       "      <td>2020</td>\n",
       "      <td>London</td>\n",
       "    </tr>\n",
       "    <tr>\n",
       "      <th>3</th>\n",
       "      <td>NaN</td>\n",
       "      <td>#</td>\n",
       "      <td>NaN</td>\n",
       "      <td>2019</td>\n",
       "      <td>NaN</td>\n",
       "    </tr>\n",
       "  </tbody>\n",
       "</table>\n",
       "</div>"
      ],
      "text/plain": [
       "  country comment    GDP  year     capital\n",
       "0     USA      OK  21.40  2021  Washington\n",
       "1   INDIA       *   1.74  2021   New Delhi\n",
       "2      UK       ?   2.78  2020      London\n",
       "3     NaN       #    NaN  2019         NaN"
      ]
     },
     "execution_count": 6,
     "metadata": {},
     "output_type": "execute_result"
    }
   ],
   "source": [
    "# code 2.2\n",
    "\n",
    "df = pd.DataFrame(data)\n",
    "df"
   ]
  },
  {
   "cell_type": "code",
   "execution_count": 7,
   "id": "b89a7a09-d8d0-4bf4-b546-749d20b946cb",
   "metadata": {},
   "outputs": [
    {
     "data": {
      "text/html": [
       "<div>\n",
       "<style scoped>\n",
       "    .dataframe tbody tr th:only-of-type {\n",
       "        vertical-align: middle;\n",
       "    }\n",
       "\n",
       "    .dataframe tbody tr th {\n",
       "        vertical-align: top;\n",
       "    }\n",
       "\n",
       "    .dataframe thead th {\n",
       "        text-align: right;\n",
       "    }\n",
       "</style>\n",
       "<table border=\"1\" class=\"dataframe\">\n",
       "  <thead>\n",
       "    <tr style=\"text-align: right;\">\n",
       "      <th></th>\n",
       "      <th>country</th>\n",
       "      <th>comment</th>\n",
       "      <th>GDP</th>\n",
       "      <th>year</th>\n",
       "      <th>capital</th>\n",
       "    </tr>\n",
       "  </thead>\n",
       "  <tbody>\n",
       "    <tr>\n",
       "      <th>0</th>\n",
       "      <td>False</td>\n",
       "      <td>False</td>\n",
       "      <td>False</td>\n",
       "      <td>False</td>\n",
       "      <td>False</td>\n",
       "    </tr>\n",
       "    <tr>\n",
       "      <th>1</th>\n",
       "      <td>False</td>\n",
       "      <td>False</td>\n",
       "      <td>False</td>\n",
       "      <td>False</td>\n",
       "      <td>False</td>\n",
       "    </tr>\n",
       "    <tr>\n",
       "      <th>2</th>\n",
       "      <td>False</td>\n",
       "      <td>False</td>\n",
       "      <td>False</td>\n",
       "      <td>False</td>\n",
       "      <td>False</td>\n",
       "    </tr>\n",
       "    <tr>\n",
       "      <th>3</th>\n",
       "      <td>True</td>\n",
       "      <td>False</td>\n",
       "      <td>True</td>\n",
       "      <td>False</td>\n",
       "      <td>True</td>\n",
       "    </tr>\n",
       "  </tbody>\n",
       "</table>\n",
       "</div>"
      ],
      "text/plain": [
       "   country  comment    GDP   year  capital\n",
       "0    False    False  False  False    False\n",
       "1    False    False  False  False    False\n",
       "2    False    False  False  False    False\n",
       "3     True    False   True  False     True"
      ]
     },
     "execution_count": 7,
     "metadata": {},
     "output_type": "execute_result"
    }
   ],
   "source": [
    "# code 3.1 -> checking null values\n",
    "#<---------------------------------->\n",
    "# isnull() return the df in a boolean form.\n",
    "df.isnull()"
   ]
  },
  {
   "cell_type": "code",
   "execution_count": 8,
   "id": "144ce90a-63af-4fa1-bced-e2e0e6f4be55",
   "metadata": {},
   "outputs": [
    {
     "data": {
      "text/plain": [
       "1"
      ]
     },
     "execution_count": 8,
     "metadata": {},
     "output_type": "execute_result"
    }
   ],
   "source": [
    "# code 3.2\n",
    "a = df.isnull().axis=1\n",
    "a"
   ]
  },
  {
   "cell_type": "code",
   "execution_count": 9,
   "id": "1221d441-3835-4349-9b40-16f3c1254b0b",
   "metadata": {},
   "outputs": [
    {
     "data": {
      "text/plain": [
       "country        INDIA\n",
       "comment            *\n",
       "GDP             1.74\n",
       "year            2021\n",
       "capital    New Delhi\n",
       "Name: 1, dtype: object"
      ]
     },
     "execution_count": 9,
     "metadata": {},
     "output_type": "execute_result"
    }
   ],
   "source": [
    "# code 3.3\n",
    "df.loc[a]"
   ]
  },
  {
   "cell_type": "code",
   "execution_count": 10,
   "id": "fba5b882-994d-452c-ba0a-e5bddd05988a",
   "metadata": {},
   "outputs": [
    {
     "data": {
      "text/plain": [
       "country    1\n",
       "comment    0\n",
       "GDP        1\n",
       "year       0\n",
       "capital    1\n",
       "dtype: int64"
      ]
     },
     "execution_count": 10,
     "metadata": {},
     "output_type": "execute_result"
    }
   ],
   "source": [
    "# code 3.4\n",
    "df.isnull().sum()"
   ]
  },
  {
   "cell_type": "code",
   "execution_count": 11,
   "id": "fe5a5cfe-a4a4-4246-91f9-a52e35b60ea5",
   "metadata": {},
   "outputs": [],
   "source": [
    "# code 4) creating a new dataframe -> fd\n",
    "#<---------------------------------------->\n",
    "fd = pd.DataFrame(data)\n",
    "\n",
    "# there are two way to fill nan"
   ]
  },
  {
   "cell_type": "code",
   "execution_count": 12,
   "id": "8070b933-6fb3-46ea-897b-e6ed0a0f7112",
   "metadata": {},
   "outputs": [],
   "source": [
    "# fill all Nan\n",
    "#<--------------->\n",
    "# fd.fillna('mean') # 1 method"
   ]
  },
  {
   "cell_type": "code",
   "execution_count": 13,
   "id": "0a7cc86c-caef-4433-b4a1-f7dd8d81a279",
   "metadata": {},
   "outputs": [],
   "source": [
    "# Fill Particular column nan\n",
    "#<---------------------------->\n",
    "# fd['GDP'].fillna('mean')"
   ]
  },
  {
   "cell_type": "code",
   "execution_count": 14,
   "id": "ae81ee1f-5c35-4ca1-99bd-6f6a5d3a2a90",
   "metadata": {},
   "outputs": [
    {
     "name": "stderr",
     "output_type": "stream",
     "text": [
      "C:\\Users\\Acer\\AppData\\Local\\Temp\\ipykernel_1820\\1906321796.py:3: FutureWarning: A value is trying to be set on a copy of a DataFrame or Series through chained assignment using an inplace method.\n",
      "The behavior will change in pandas 3.0. This inplace method will never work because the intermediate object on which we are setting values always behaves as a copy.\n",
      "\n",
      "For example, when doing 'df[col].method(value, inplace=True)', try using 'df.method({col: value}, inplace=True)' or df[col] = df[col].method(value) instead, to perform the operation inplace on the original object.\n",
      "\n",
      "\n",
      "  fd['GDP'].fillna(fd['GDP'].mean(),inplace=True) # 2nd method (recommended)\n"
     ]
    }
   ],
   "source": [
    "# code 5.1) fill particular column with mean\n",
    "#<------------------------------------>\n",
    "fd['GDP'].fillna(fd['GDP'].mean(),inplace=True) # 2nd method (recommended)\n",
    "\n",
    "# here we are filling 1st nan"
   ]
  },
  {
   "cell_type": "code",
   "execution_count": 15,
   "id": "e7aa0c35-76f4-4e86-8c0f-cbc3145d948a",
   "metadata": {},
   "outputs": [
    {
     "data": {
      "text/html": [
       "<div>\n",
       "<style scoped>\n",
       "    .dataframe tbody tr th:only-of-type {\n",
       "        vertical-align: middle;\n",
       "    }\n",
       "\n",
       "    .dataframe tbody tr th {\n",
       "        vertical-align: top;\n",
       "    }\n",
       "\n",
       "    .dataframe thead th {\n",
       "        text-align: right;\n",
       "    }\n",
       "</style>\n",
       "<table border=\"1\" class=\"dataframe\">\n",
       "  <thead>\n",
       "    <tr style=\"text-align: right;\">\n",
       "      <th></th>\n",
       "      <th>country</th>\n",
       "      <th>comment</th>\n",
       "      <th>GDP</th>\n",
       "      <th>year</th>\n",
       "      <th>capital</th>\n",
       "    </tr>\n",
       "  </thead>\n",
       "  <tbody>\n",
       "    <tr>\n",
       "      <th>0</th>\n",
       "      <td>USA</td>\n",
       "      <td>OK</td>\n",
       "      <td>21.40</td>\n",
       "      <td>2021</td>\n",
       "      <td>Washington</td>\n",
       "    </tr>\n",
       "    <tr>\n",
       "      <th>1</th>\n",
       "      <td>INDIA</td>\n",
       "      <td>*</td>\n",
       "      <td>1.74</td>\n",
       "      <td>2021</td>\n",
       "      <td>New Delhi</td>\n",
       "    </tr>\n",
       "    <tr>\n",
       "      <th>2</th>\n",
       "      <td>UK</td>\n",
       "      <td>?</td>\n",
       "      <td>2.78</td>\n",
       "      <td>2020</td>\n",
       "      <td>London</td>\n",
       "    </tr>\n",
       "    <tr>\n",
       "      <th>3</th>\n",
       "      <td>NaN</td>\n",
       "      <td>#</td>\n",
       "      <td>8.64</td>\n",
       "      <td>2019</td>\n",
       "      <td>NaN</td>\n",
       "    </tr>\n",
       "  </tbody>\n",
       "</table>\n",
       "</div>"
      ],
      "text/plain": [
       "  country comment    GDP  year     capital\n",
       "0     USA      OK  21.40  2021  Washington\n",
       "1   INDIA       *   1.74  2021   New Delhi\n",
       "2      UK       ?   2.78  2020      London\n",
       "3     NaN       #   8.64  2019         NaN"
      ]
     },
     "execution_count": 15,
     "metadata": {},
     "output_type": "execute_result"
    }
   ],
   "source": [
    "fd\n",
    "\n",
    "# analysis now the gdp nan value fill with the mean of this column."
   ]
  },
  {
   "cell_type": "code",
   "execution_count": 16,
   "id": "0d9ab560-8d53-47a8-ab27-6e695fde199d",
   "metadata": {},
   "outputs": [
    {
     "data": {
      "text/plain": [
       "5.709999999999999"
      ]
     },
     "execution_count": 16,
     "metadata": {},
     "output_type": "execute_result"
    }
   ],
   "source": [
    "# median of GDP column\n",
    "#<---------------------->\n",
    "fd['GDP'].median()"
   ]
  },
  {
   "cell_type": "code",
   "execution_count": 17,
   "id": "f31c2afc-65e4-45b3-9991-5dc35a5810c7",
   "metadata": {},
   "outputs": [],
   "source": [
    "# forward filling also called locf-> last observation carry forward\n",
    "\n",
    "\n",
    "# fd['GDP'].fillna('mean') # 1\n",
    "# fd['Country'].fillna(method = 'ffill',inplace=True)"
   ]
  },
  {
   "cell_type": "code",
   "execution_count": 18,
   "id": "28dadae9-96cd-4c33-a88e-2a06fb033b76",
   "metadata": {},
   "outputs": [
    {
     "name": "stderr",
     "output_type": "stream",
     "text": [
      "C:\\Users\\Acer\\AppData\\Local\\Temp\\ipykernel_1820\\875359584.py:3: FutureWarning: A value is trying to be set on a copy of a DataFrame or Series through chained assignment using an inplace method.\n",
      "The behavior will change in pandas 3.0. This inplace method will never work because the intermediate object on which we are setting values always behaves as a copy.\n",
      "\n",
      "For example, when doing 'df[col].method(value, inplace=True)', try using 'df.method({col: value}, inplace=True)' or df[col] = df[col].method(value) instead, to perform the operation inplace on the original object.\n",
      "\n",
      "\n",
      "  fd['country'].fillna(method = 'ffill',inplace =True)\n",
      "C:\\Users\\Acer\\AppData\\Local\\Temp\\ipykernel_1820\\875359584.py:3: FutureWarning: Series.fillna with 'method' is deprecated and will raise in a future version. Use obj.ffill() or obj.bfill() instead.\n",
      "  fd['country'].fillna(method = 'ffill',inplace =True)\n"
     ]
    },
    {
     "data": {
      "text/html": [
       "<div>\n",
       "<style scoped>\n",
       "    .dataframe tbody tr th:only-of-type {\n",
       "        vertical-align: middle;\n",
       "    }\n",
       "\n",
       "    .dataframe tbody tr th {\n",
       "        vertical-align: top;\n",
       "    }\n",
       "\n",
       "    .dataframe thead th {\n",
       "        text-align: right;\n",
       "    }\n",
       "</style>\n",
       "<table border=\"1\" class=\"dataframe\">\n",
       "  <thead>\n",
       "    <tr style=\"text-align: right;\">\n",
       "      <th></th>\n",
       "      <th>country</th>\n",
       "      <th>comment</th>\n",
       "      <th>GDP</th>\n",
       "      <th>year</th>\n",
       "      <th>capital</th>\n",
       "    </tr>\n",
       "  </thead>\n",
       "  <tbody>\n",
       "    <tr>\n",
       "      <th>0</th>\n",
       "      <td>USA</td>\n",
       "      <td>OK</td>\n",
       "      <td>21.40</td>\n",
       "      <td>2021</td>\n",
       "      <td>Washington</td>\n",
       "    </tr>\n",
       "    <tr>\n",
       "      <th>1</th>\n",
       "      <td>INDIA</td>\n",
       "      <td>*</td>\n",
       "      <td>1.74</td>\n",
       "      <td>2021</td>\n",
       "      <td>New Delhi</td>\n",
       "    </tr>\n",
       "    <tr>\n",
       "      <th>2</th>\n",
       "      <td>UK</td>\n",
       "      <td>?</td>\n",
       "      <td>2.78</td>\n",
       "      <td>2020</td>\n",
       "      <td>London</td>\n",
       "    </tr>\n",
       "    <tr>\n",
       "      <th>3</th>\n",
       "      <td>UK</td>\n",
       "      <td>#</td>\n",
       "      <td>8.64</td>\n",
       "      <td>2019</td>\n",
       "      <td>NaN</td>\n",
       "    </tr>\n",
       "  </tbody>\n",
       "</table>\n",
       "</div>"
      ],
      "text/plain": [
       "  country comment    GDP  year     capital\n",
       "0     USA      OK  21.40  2021  Washington\n",
       "1   INDIA       *   1.74  2021   New Delhi\n",
       "2      UK       ?   2.78  2020      London\n",
       "3      UK       #   8.64  2019         NaN"
      ]
     },
     "execution_count": 18,
     "metadata": {},
     "output_type": "execute_result"
    }
   ],
   "source": [
    "# code 5.2\n",
    "#<----------->\n",
    "fd['country'].fillna(method = 'ffill',inplace =True)\n",
    "fd\n",
    "\n",
    "# 2nd nan"
   ]
  },
  {
   "cell_type": "code",
   "execution_count": 19,
   "id": "0f917a07-2e90-450a-9c6e-3c78929de0b5",
   "metadata": {},
   "outputs": [],
   "source": [
    "# bfilll -> niche wale ko upar lana hai to.\n",
    "            # means fill with just below value\n",
    "#<------------------------------------------------>"
   ]
  },
  {
   "cell_type": "code",
   "execution_count": 20,
   "id": "bb849065-d3d5-4f83-bbeb-03e1f2593d27",
   "metadata": {},
   "outputs": [
    {
     "name": "stderr",
     "output_type": "stream",
     "text": [
      "C:\\Users\\Acer\\AppData\\Local\\Temp\\ipykernel_1820\\3828666404.py:2: FutureWarning: A value is trying to be set on a copy of a DataFrame or Series through chained assignment using an inplace method.\n",
      "The behavior will change in pandas 3.0. This inplace method will never work because the intermediate object on which we are setting values always behaves as a copy.\n",
      "\n",
      "For example, when doing 'df[col].method(value, inplace=True)', try using 'df.method({col: value}, inplace=True)' or df[col] = df[col].method(value) instead, to perform the operation inplace on the original object.\n",
      "\n",
      "\n",
      "  fd['capital'].fillna(method = 'ffill',inplace =True)\n",
      "C:\\Users\\Acer\\AppData\\Local\\Temp\\ipykernel_1820\\3828666404.py:2: FutureWarning: Series.fillna with 'method' is deprecated and will raise in a future version. Use obj.ffill() or obj.bfill() instead.\n",
      "  fd['capital'].fillna(method = 'ffill',inplace =True)\n"
     ]
    },
    {
     "data": {
      "text/html": [
       "<div>\n",
       "<style scoped>\n",
       "    .dataframe tbody tr th:only-of-type {\n",
       "        vertical-align: middle;\n",
       "    }\n",
       "\n",
       "    .dataframe tbody tr th {\n",
       "        vertical-align: top;\n",
       "    }\n",
       "\n",
       "    .dataframe thead th {\n",
       "        text-align: right;\n",
       "    }\n",
       "</style>\n",
       "<table border=\"1\" class=\"dataframe\">\n",
       "  <thead>\n",
       "    <tr style=\"text-align: right;\">\n",
       "      <th></th>\n",
       "      <th>country</th>\n",
       "      <th>comment</th>\n",
       "      <th>GDP</th>\n",
       "      <th>year</th>\n",
       "      <th>capital</th>\n",
       "    </tr>\n",
       "  </thead>\n",
       "  <tbody>\n",
       "    <tr>\n",
       "      <th>0</th>\n",
       "      <td>USA</td>\n",
       "      <td>OK</td>\n",
       "      <td>21.40</td>\n",
       "      <td>2021</td>\n",
       "      <td>Washington</td>\n",
       "    </tr>\n",
       "    <tr>\n",
       "      <th>1</th>\n",
       "      <td>INDIA</td>\n",
       "      <td>*</td>\n",
       "      <td>1.74</td>\n",
       "      <td>2021</td>\n",
       "      <td>New Delhi</td>\n",
       "    </tr>\n",
       "    <tr>\n",
       "      <th>2</th>\n",
       "      <td>UK</td>\n",
       "      <td>?</td>\n",
       "      <td>2.78</td>\n",
       "      <td>2020</td>\n",
       "      <td>London</td>\n",
       "    </tr>\n",
       "    <tr>\n",
       "      <th>3</th>\n",
       "      <td>UK</td>\n",
       "      <td>#</td>\n",
       "      <td>8.64</td>\n",
       "      <td>2019</td>\n",
       "      <td>London</td>\n",
       "    </tr>\n",
       "  </tbody>\n",
       "</table>\n",
       "</div>"
      ],
      "text/plain": [
       "  country comment    GDP  year     capital\n",
       "0     USA      OK  21.40  2021  Washington\n",
       "1   INDIA       *   1.74  2021   New Delhi\n",
       "2      UK       ?   2.78  2020      London\n",
       "3      UK       #   8.64  2019      London"
      ]
     },
     "execution_count": 20,
     "metadata": {},
     "output_type": "execute_result"
    }
   ],
   "source": [
    "# code 5.3\n",
    "fd['capital'].fillna(method = 'ffill',inplace =True)\n",
    "fd\n",
    "\n",
    "# 3rd nan"
   ]
  },
  {
   "cell_type": "code",
   "execution_count": 21,
   "id": "ca8be914-a919-4384-9233-88c3c3db8f1d",
   "metadata": {},
   "outputs": [
    {
     "name": "stdout",
     "output_type": "stream",
     "text": [
      "['INDIA' '*' 1.74 2021 'New Delhi']\n",
      "['UK' '?' 2.78 2020 'London']\n",
      "[nan '#' nan 2019 nan]\n"
     ]
    }
   ],
   "source": [
    "# code 6.1) printing the row match with the symbols list\n",
    "#<-------------------------------------------------------->\n",
    "\n",
    "fd1 = pd.DataFrame(data).values\n",
    "symbols = [\"*\",\"#\",\"?\"]\n",
    "for row in fd1:\n",
    "    if set(row) & set(symbols):\n",
    "        print(row)"
   ]
  },
  {
   "cell_type": "code",
   "execution_count": 22,
   "id": "ccba2836-fe78-40cc-8ad1-2abdd248b744",
   "metadata": {},
   "outputs": [
    {
     "data": {
      "text/html": [
       "<div>\n",
       "<style scoped>\n",
       "    .dataframe tbody tr th:only-of-type {\n",
       "        vertical-align: middle;\n",
       "    }\n",
       "\n",
       "    .dataframe tbody tr th {\n",
       "        vertical-align: top;\n",
       "    }\n",
       "\n",
       "    .dataframe thead th {\n",
       "        text-align: right;\n",
       "    }\n",
       "</style>\n",
       "<table border=\"1\" class=\"dataframe\">\n",
       "  <thead>\n",
       "    <tr style=\"text-align: right;\">\n",
       "      <th></th>\n",
       "      <th>country</th>\n",
       "      <th>comment</th>\n",
       "      <th>GDP</th>\n",
       "      <th>year</th>\n",
       "      <th>capital</th>\n",
       "    </tr>\n",
       "  </thead>\n",
       "  <tbody>\n",
       "    <tr>\n",
       "      <th>0</th>\n",
       "      <td>USA</td>\n",
       "      <td>OK</td>\n",
       "      <td>21.40</td>\n",
       "      <td>2021</td>\n",
       "      <td>Washington</td>\n",
       "    </tr>\n",
       "    <tr>\n",
       "      <th>1</th>\n",
       "      <td>INDIA</td>\n",
       "      <td>*</td>\n",
       "      <td>1.74</td>\n",
       "      <td>2021</td>\n",
       "      <td>New Delhi</td>\n",
       "    </tr>\n",
       "    <tr>\n",
       "      <th>2</th>\n",
       "      <td>UK</td>\n",
       "      <td>?</td>\n",
       "      <td>2.78</td>\n",
       "      <td>2020</td>\n",
       "      <td>London</td>\n",
       "    </tr>\n",
       "    <tr>\n",
       "      <th>3</th>\n",
       "      <td>UK</td>\n",
       "      <td>#</td>\n",
       "      <td>8.64</td>\n",
       "      <td>2019</td>\n",
       "      <td>London</td>\n",
       "    </tr>\n",
       "  </tbody>\n",
       "</table>\n",
       "</div>"
      ],
      "text/plain": [
       "  country comment    GDP  year     capital\n",
       "0     USA      OK  21.40  2021  Washington\n",
       "1   INDIA       *   1.74  2021   New Delhi\n",
       "2      UK       ?   2.78  2020      London\n",
       "3      UK       #   8.64  2019      London"
      ]
     },
     "execution_count": 22,
     "metadata": {},
     "output_type": "execute_result"
    }
   ],
   "source": [
    "fd"
   ]
  },
  {
   "cell_type": "code",
   "execution_count": 23,
   "id": "cf3db68f-8833-4e1a-b04e-8c251eec68cc",
   "metadata": {},
   "outputs": [],
   "source": [
    "# code 6.2 mycode\n",
    "# checking all columns for symbols\n",
    "#<----------------------------------->\n",
    "\n",
    "# for symbol in symbols:\n",
    "#     filtered_rows = df[df['comment'] == symbol]\n",
    "#     print(f\"Rows with symbol '{symbol}':\")\n",
    "#     print(filtered_rows)\n",
    "#     print()"
   ]
  },
  {
   "cell_type": "code",
   "execution_count": 24,
   "id": "244f718b-dca8-4203-a7cf-68c7e33f4541",
   "metadata": {},
   "outputs": [],
   "source": [
    "# code 6.3 mycode -> checking particular column for symbols\n",
    "# symbols = ['*', '?', '#']\n",
    "\n",
    "# # Filter and print rows with the symbols\n",
    "# for symbol in symbols:\n",
    "#     print(fd[fd['comment'] == symbol])\n",
    "#     print()"
   ]
  },
  {
   "cell_type": "code",
   "execution_count": 25,
   "id": "20b75516-d48a-4bcc-8ed1-3d33c28feb7a",
   "metadata": {},
   "outputs": [],
   "source": [
    "# Code 7) This is only view not change in existing dataframe\n",
    "#<-------------------------------------------------------------->\n",
    "# fd['comment'].replace({'*': 'Not OK', '?': 'OK', '#': 'Not OK'})"
   ]
  },
  {
   "cell_type": "code",
   "execution_count": 26,
   "id": "9f88da08-9672-4559-84d6-e6737064bee8",
   "metadata": {},
   "outputs": [],
   "source": [
    "# fd"
   ]
  },
  {
   "cell_type": "code",
   "execution_count": 27,
   "id": "4698d154-f803-41c3-8aab-86365a034429",
   "metadata": {},
   "outputs": [],
   "source": [
    "# code 8) # change in original df\n",
    "#<------------------------------------>\n",
    "# fd['comment'] = fd['comment'].replace({'*': 'Not OK', '?': 'OK', '#': 'Not OK'})\n",
    "# fd"
   ]
  },
  {
   "cell_type": "markdown",
   "id": "e283a493-a6f5-4380-b273-6a288df0a3d6",
   "metadata": {},
   "source": [
    "# practice code"
   ]
  },
  {
   "cell_type": "code",
   "execution_count": 29,
   "id": "6d63255e-147b-4c2e-b745-4142750ce273",
   "metadata": {},
   "outputs": [
    {
     "name": "stdout",
     "output_type": "stream",
     "text": [
      "!\"#$%&'()*+,-./:;<=>?@[\\]^_`{|}~\n"
     ]
    }
   ],
   "source": [
    "# printing puctuations\n",
    "import string\n",
    "print(string.punctuation)"
   ]
  },
  {
   "cell_type": "code",
   "execution_count": 30,
   "id": "fb06c650-2980-40ae-9bc8-1601dd1bd04c",
   "metadata": {},
   "outputs": [
    {
     "name": "stdout",
     "output_type": "stream",
     "text": [
      "['!', '\"', '#', '$', '%', '&', \"'\", '(', ')', '*', '+', ',', '-', '.', '/', ':', ';', '<', '=', '>', '?', '@', '[', '\\\\', ']', '^', '_', '`', '{', '|', '}', '~']\n"
     ]
    }
   ],
   "source": [
    "print(list(string.punctuation))"
   ]
  },
  {
   "cell_type": "code",
   "execution_count": 31,
   "id": "c0bc3f6a-c1d5-48b5-bb19-aefd81f3829f",
   "metadata": {},
   "outputs": [
    {
     "name": "stdout",
     "output_type": "stream",
     "text": [
      "<class 'list'>\n"
     ]
    }
   ],
   "source": [
    "# how to convert into list\n",
    "#<---------------------------->\n",
    "a = \"hello\"\n",
    "b = list(a)\n",
    "print(type(b))"
   ]
  },
  {
   "cell_type": "code",
   "execution_count": 32,
   "id": "5eeca19f-c87a-4f9e-97ed-6217851fb504",
   "metadata": {},
   "outputs": [],
   "source": [
    "df1 = pd.DataFrame(data)"
   ]
  },
  {
   "cell_type": "code",
   "execution_count": 33,
   "id": "f0ef4ce2-f276-46c1-8146-ea20a175907b",
   "metadata": {},
   "outputs": [],
   "source": [
    "a = list(string.punctuation)"
   ]
  },
  {
   "cell_type": "code",
   "execution_count": 34,
   "id": "5da3c657-3435-4920-87cf-7bd30720f394",
   "metadata": {},
   "outputs": [
    {
     "data": {
      "text/plain": [
       "4"
      ]
     },
     "execution_count": 34,
     "metadata": {},
     "output_type": "execute_result"
    }
   ],
   "source": [
    "len(df1)"
   ]
  },
  {
   "cell_type": "code",
   "execution_count": 35,
   "id": "cd32b4e0-9b91-4bc4-8be7-fae6eca24029",
   "metadata": {},
   "outputs": [
    {
     "ename": "NameError",
     "evalue": "name 'df9' is not defined",
     "output_type": "error",
     "traceback": [
      "\u001b[1;31m---------------------------------------------------------------------------\u001b[0m",
      "\u001b[1;31mNameError\u001b[0m                                 Traceback (most recent call last)",
      "Cell \u001b[1;32mIn[35], line 5\u001b[0m\n\u001b[0;32m      3\u001b[0m \u001b[38;5;28;01mimport\u001b[39;00m \u001b[38;5;21;01mstring\u001b[39;00m\n\u001b[0;32m      4\u001b[0m a \u001b[38;5;241m=\u001b[39m \u001b[38;5;28mlist\u001b[39m(string\u001b[38;5;241m.\u001b[39mpunctuation)\n\u001b[1;32m----> 5\u001b[0m df9[\u001b[38;5;124m'\u001b[39m\u001b[38;5;124mcomment\u001b[39m\u001b[38;5;124m'\u001b[39m] \u001b[38;5;241m=\u001b[39m df9[\u001b[38;5;124m'\u001b[39m\u001b[38;5;124mcomment\u001b[39m\u001b[38;5;124m'\u001b[39m]\u001b[38;5;241m.\u001b[39mapply(\u001b[38;5;28;01mlambda\u001b[39;00m x: \u001b[38;5;124m'\u001b[39m\u001b[38;5;124mOK\u001b[39m\u001b[38;5;124m'\u001b[39m \u001b[38;5;28;01mif\u001b[39;00m x \u001b[38;5;129;01min\u001b[39;00m a \u001b[38;5;28;01melse\u001b[39;00m x)\n\u001b[0;32m      6\u001b[0m \u001b[38;5;28mprint\u001b[39m(df9)\n",
      "\u001b[1;31mNameError\u001b[0m: name 'df9' is not defined"
     ]
    }
   ],
   "source": [
    "# using lambda\n",
    "import pandas as pd\n",
    "import string\n",
    "a = list(string.punctuation)\n",
    "df9['comment'] = df9['comment'].apply(lambda x: 'OK' if x in a else x)\n",
    "print(df9)\n"
   ]
  },
  {
   "cell_type": "code",
   "execution_count": null,
   "id": "29238c68-aa14-474e-8b6d-61aa17db29c2",
   "metadata": {},
   "outputs": [],
   "source": [
    "# fill symbols with ok and not ok\n",
    "#<---------------------------------->\n",
    "\n",
    "import pandas as pd\n",
    "import string\n",
    "import numpy as np\n",
    "\n",
    "# Sample data\n",
    "data = {\n",
    "    'country': ['USA', 'INDIA', 'UK', 'UK'],\n",
    "    'comment': ['OK', '*', '?', '#'],\n",
    "    'GDP': [21.40, 1.74, 2.78, 8.64],\n",
    "    'year': [2021, 2021, 2020, 2019],\n",
    "    'capital': ['Washington', 'New Delhi', 'London', 'London']\n",
    "}\n",
    "\n",
    "df10 = pd.DataFrame(data)\n",
    "\n",
    "# List of punctuation symbols\n",
    "symbols = list(string.punctuation)\n",
    "\n",
    "# Identify rows where 'comment' is a symbol\n",
    "symbol_rows = df10[df10['comment'].isin(symbols)].index.tolist()\n",
    "\n",
    "# Check if there are symbols to replace\n",
    "if len(symbol_rows) > 0:\n",
    "    # Shuffle the indices randomly\n",
    "    np.random.shuffle(symbol_rows)\n",
    "    \n",
    "    # Calculate the split point\n",
    "    half = len(symbol_rows) // 2\n",
    "\n",
    "    # Assign 'OK' to the first half and 'Not OK' to the second half\n",
    "    df10.loc[symbol_rows[:half], 'comment'] = 'OK'\n",
    "    df10.loc[symbol_rows[half:], 'comment'] = 'Not OK'\n",
    "\n",
    "# Display the updated DataFrame\n",
    "print(df10)\n"
   ]
  },
  {
   "cell_type": "markdown",
   "id": "6f049efc-a904-46cb-b70f-0e2fd297b9ed",
   "metadata": {},
   "source": [
    "# 17 sep 2024"
   ]
  },
  {
   "cell_type": "code",
   "execution_count": null,
   "id": "8406e58c-f698-4d1f-ae89-d98a9fa3e80b",
   "metadata": {},
   "outputs": [],
   "source": [
    "df1 = pd.DataFrame(fd)\n",
    "df1"
   ]
  },
  {
   "cell_type": "code",
   "execution_count": null,
   "id": "a71eb8f0-1e06-42da-a5f1-40ca1ce8bc65",
   "metadata": {},
   "outputs": [],
   "source": [
    "df1.replace({'*':np.nan,\n",
    "           '?':np.nan,\n",
    "           '#':np.nan},\n",
    "          inplace=True)\n",
    "df1"
   ]
  },
  {
   "cell_type": "code",
   "execution_count": null,
   "id": "a5619b51-999a-4c0d-8111-cfaf46a187e2",
   "metadata": {},
   "outputs": [],
   "source": [
    "df.isnull().sum()"
   ]
  },
  {
   "cell_type": "code",
   "execution_count": null,
   "id": "686469bf-3578-4c67-b865-4602cce66537",
   "metadata": {},
   "outputs": [],
   "source": [
    "# if between 20 to 30 percent null values then remove it."
   ]
  },
  {
   "cell_type": "code",
   "execution_count": null,
   "id": "03ed9874-1917-49f8-a283-cae2371ffaf1",
   "metadata": {},
   "outputs": [],
   "source": [
    "df1.drop('comment',axis=1, inplace=True)"
   ]
  },
  {
   "cell_type": "code",
   "execution_count": null,
   "id": "46cd5e83-8106-4cd7-8241-442bae0a0f01",
   "metadata": {},
   "outputs": [],
   "source": [
    "df1"
   ]
  },
  {
   "cell_type": "code",
   "execution_count": null,
   "id": "64101bb9-0978-4844-ae49-6e2d728db213",
   "metadata": {},
   "outputs": [],
   "source": [
    "# types of missing data\n",
    "# #<--------------------->\n",
    "# MCAR -> missing completely at random\n",
    "# MAR -> missing at random\n",
    "# MNAR -> missing not at random"
   ]
  },
  {
   "cell_type": "code",
   "execution_count": null,
   "id": "ae2e0b43-43bd-4820-94df-90623675994f",
   "metadata": {},
   "outputs": [],
   "source": [
    "# Howework \n",
    "# read train dataset and drop cabin column"
   ]
  },
  {
   "cell_type": "code",
   "execution_count": null,
   "id": "7c85dff7-dae2-4933-b0bf-1172d661c10d",
   "metadata": {},
   "outputs": [],
   "source": [
    "import pandas as pd\n",
    "df2 = pd.read_csv(r\"C:\\Users\\Acer\\Downloads\\train.csv\")\n",
    "df2"
   ]
  },
  {
   "cell_type": "code",
   "execution_count": null,
   "id": "aa7babf2-1db3-4e23-a5b4-913eb369ecf8",
   "metadata": {},
   "outputs": [],
   "source": [
    "df2.drop('Cabin',axis=1, inplace=True)\n",
    "\n",
    "# bcoz 30% null data"
   ]
  },
  {
   "cell_type": "code",
   "execution_count": null,
   "id": "979b341e-8177-49f9-ad20-955d9e08704b",
   "metadata": {},
   "outputs": [],
   "source": [
    "df2"
   ]
  },
  {
   "cell_type": "code",
   "execution_count": null,
   "id": "a7f287ae-9914-46a3-8c75-9878dd595544",
   "metadata": {},
   "outputs": [],
   "source": [
    "import pandas as pd\n",
    "import numpy as np\n",
    "import seaborn as sns\n",
    "import matplotlib.pyplot as plt"
   ]
  },
  {
   "cell_type": "code",
   "execution_count": null,
   "id": "340161dd-93fa-43d5-a534-37f873e04f3f",
   "metadata": {},
   "outputs": [],
   "source": [
    "from sklearn.preprocessing import LabelEncoder"
   ]
  },
  {
   "cell_type": "code",
   "execution_count": null,
   "id": "59eb0f55-d8ff-4e4c-88c7-03bb356b3441",
   "metadata": {},
   "outputs": [],
   "source": [
    "# encoding Embarked column\n",
    "#<------------------------->\n",
    "le = LabelEncoder()\n",
    "le.fit_transform(df2[\"Embarked\"])"
   ]
  },
  {
   "cell_type": "code",
   "execution_count": null,
   "id": "bb4ac394-16a0-427b-9757-e6b5f0af9334",
   "metadata": {},
   "outputs": [],
   "source": [
    "df2[\"en_Embarked\"] = le.fit_transform(df2[\"Embarked\"])"
   ]
  },
  {
   "cell_type": "code",
   "execution_count": null,
   "id": "b42b1654-c081-498e-aec2-13bf62e3f0e7",
   "metadata": {},
   "outputs": [],
   "source": [
    "# encoding sex column\n",
    "le.fit_transform(df2[\"Sex\"])"
   ]
  },
  {
   "cell_type": "code",
   "execution_count": null,
   "id": "acf8ca3f-d26b-4769-ba53-43459ad62251",
   "metadata": {},
   "outputs": [],
   "source": [
    "df2[\"en_Sex\"] = le.fit_transform(df2[\"Sex\"])"
   ]
  },
  {
   "cell_type": "code",
   "execution_count": null,
   "id": "6e6c7cef-fd2a-42c8-b4fa-c12010afb6b5",
   "metadata": {},
   "outputs": [],
   "source": [
    "df2"
   ]
  },
  {
   "cell_type": "code",
   "execution_count": null,
   "id": "82b70373-1c45-43fb-ac58-194b2e35cde5",
   "metadata": {},
   "outputs": [],
   "source": [
    "# dropping Embarked\n",
    "a = df2.drop(\"Embarked\",axis=1,inplace=True)\n"
   ]
  },
  {
   "cell_type": "code",
   "execution_count": null,
   "id": "40e8201f-c6c6-4d6e-a03c-073b8b249b90",
   "metadata": {},
   "outputs": [],
   "source": [
    "# dropping Sex\n",
    "df2.drop(\"Sex\",axis=1,inplace=True)"
   ]
  },
  {
   "cell_type": "code",
   "execution_count": null,
   "id": "5932057b-a7f7-412f-ad1e-1b9cde63f54d",
   "metadata": {
    "scrolled": true
   },
   "outputs": [],
   "source": [
    "df2"
   ]
  },
  {
   "cell_type": "code",
   "execution_count": null,
   "id": "65f6fc36-6f84-4164-b331-3373742ebde1",
   "metadata": {},
   "outputs": [],
   "source": []
  },
  {
   "cell_type": "code",
   "execution_count": null,
   "id": "f8936527-7ebc-4c16-bf0f-bcb748e300dc",
   "metadata": {},
   "outputs": [],
   "source": [
    "df2[\"Age\"].isnull().sum()"
   ]
  }
 ],
 "metadata": {
  "kernelspec": {
   "display_name": "Python 3 (ipykernel)",
   "language": "python",
   "name": "python3"
  },
  "language_info": {
   "codemirror_mode": {
    "name": "ipython",
    "version": 3
   },
   "file_extension": ".py",
   "mimetype": "text/x-python",
   "name": "python",
   "nbconvert_exporter": "python",
   "pygments_lexer": "ipython3",
   "version": "3.11.7"
  }
 },
 "nbformat": 4,
 "nbformat_minor": 5
}
